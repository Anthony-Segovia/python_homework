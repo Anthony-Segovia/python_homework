{
 "cells": [
  {
   "cell_type": "code",
   "execution_count": 1,
   "id": "75daa2d4-22b5-43a0-9b19-0ac17b461aaa",
   "metadata": {},
   "outputs": [
    {
     "ename": "SyntaxError",
     "evalue": "invalid syntax (1891770655.py, line 86)",
     "output_type": "error",
     "traceback": [
      "\u001b[0;36m  File \u001b[0;32m\"/var/folders/d3/zhlv7h4167b7496bj0z9qfn00000gn/T/ipykernel_43426/1891770655.py\"\u001b[0;36m, line \u001b[0;32m86\u001b[0m\n\u001b[0;31m    ---\u001b[0m\n\u001b[0m       ^\u001b[0m\n\u001b[0;31mSyntaxError\u001b[0m\u001b[0;31m:\u001b[0m invalid syntax\n"
     ]
    }
   ],
   "source": [
    "# Complete the following:\n",
    "\n",
    "# ### Manipulate the Data\n",
    "\n",
    "# Complete the following:\n",
    "\n",
    "#   * Perform a quick check if the `sales_item` is already included in the `report`. If not, initialize the key-value pairs for the particular `sales_item` in the report. Then, set the `sales_item` as a new key to the `report` dictionary and the values as a nested dictionary containing the following:\n",
    "\n",
    "#     ```python\n",
    "#     {\n",
    "#     \"01-count\": 0,\n",
    "#     \"02-revenue\": 0,\n",
    "#     \"03-cogs\": 0,\n",
    "#     \"04-profit\": 0,\n",
    "#     }\n",
    "#     ```\n",
    "\n",
    "# * Create a nested loop by looping through every record in `menu`.\n",
    "\n",
    "#   * For each row of the `menu` data, set the following columns of the menu data to their own variables:\n",
    "\n",
    "#     * Item\n",
    "#     * Price\n",
    "#     * Cost\n",
    "\n",
    "#   * If the `sales_item` in sales is equal to the `item` in `menu`, capture the `quantity` from the sales data and the `price` and `cost` from the menu data to calculate the `profit` for each item.\n",
    "\n",
    "#     * Cumulatively add the values to the corresponding metrics in the report like so:\n",
    "\n",
    "#       ```python\n",
    "#       report[sales_item][\"01-count\"] += quantity\n",
    "#       report[sales_item][\"02-revenue\"] += price * quantity\n",
    "#       report[sales_item][\"03-cogs\"] += cost * quantity\n",
    "#       report[sales_item][\"04-profit\"] += profit * quantity\n",
    "#       ```\n",
    "\n",
    "#   * Else print the message \"{sales_item} does not equal {item}! NO MATCH!\".\n",
    "\n",
    "# * Write out the contents of the `report` dictionary to a text file. The report should output each ramen type as the keys and `01-count`, `02-revenue`, `03-cogs`, and `04-profit` metrics as the values for every ramen type as shown:\n",
    "\n",
    "#   ```\n",
    "#   spicy miso ramen {'01-count': 9238, '02-revenue': 110856.0, '03-cogs': 46190.0, '04-profit': 64666.0}\n",
    "#   tori paitan ramen {'01-count': 9156, '02-revenue': 119028.0, '03-cogs': 54936.0, '04-profit': 64092.0}\n",
    "#   truffle butter ramen {'01-count': 8982, '02-revenue': 125748.0, '03-cogs': 62874.0, '04-profit': 62874.0}\n",
    "#   tonkotsu ramen {'01-count': 9288, '02-revenue': 120744.0, '03-cogs': 55728.0, '04-profit': 65016.0}\n",
    "#   vegetarian spicy miso {'01-count': 9216, '02-revenue': 110592.0, '03-cogs': 46080.0, '04-profit': 64512.0}\n",
    "#   shio ramen {'01-count': 9180, '02-revenue': 100980.0, '03-cogs': 45900.0, '04-profit': 55080.0}\n",
    "#   miso crab ramen {'01-count': 8890, '02-revenue': 106680.0, '03-cogs': 53340.0, '04-profit': 53340.0}\n",
    "#   nagomi shoyu {'01-count': 9132, '02-revenue': 100452.0, '03-cogs': 45660.0, '04-profit': 54792.0}\n",
    "#   soft-shell miso crab ramen {'01-count': 9130, '02-revenue': 127820.0, '03-cogs': 63910.0, '04-profit': 63910.0}\n",
    "#   burnt garlic tonkotsu ramen {'01-count': 9070, '02-revenue': 126980.0, '03-cogs': 54420.0, '04-profit': 72560.0}\n",
    "#   vegetarian curry + king trumpet mushroom ramen {'01-count': 8824, '02-revenue': 114712.0, '03-cogs': 61768.0, '04-profit': 52944.0}\n",
    "#   ```\n",
    "\n",
    "\n",
    "# with open(filepath,newline='') as file:\n",
    "#     csvreader = csv.reader(file,delimiter=',')\n",
    "#     header = next(csvreader)\n",
    "#     first_row = next(csvreader)\n",
    "#     total_months = total_months + 1\n",
    "#     total_net = total_net + int(first_row[1])\n",
    "#     prev_net = int(first_row[1])\n",
    "    \n",
    "    \n",
    "#     for row in csvreader:\n",
    "#         total_months = total_months + 1\n",
    "#         total_net = total_net + int(row[1])\n",
    "  \n",
    "#         net_change = int(row[1]) - prev_net\n",
    "#         prev_net = int(row[1])\n",
    "      \n",
    "#         profit_loss.append(net_change)\n",
    "#         date.append(row[0])\n",
    "      \n",
    "#         if net_change > greatest_increase[1]:\n",
    "#             greatest_increase[0] = row[0]\n",
    "#             greatest_increase[1] = net_change\n",
    "\n",
    "#         if net_change < greatest_decrease[1]:\n",
    "#             greatest_decrease[0] = row[0]\n",
    "#             greatest_decrease[1] = net_change\n",
    "---"
   ]
  },
  {
   "cell_type": "code",
   "execution_count": 4,
   "id": "f5d4dcfa-682e-47b3-a483-35908427f037",
   "metadata": {},
   "outputs": [],
   "source": [
    "from pathlib import Path\n",
    "import csv"
   ]
  },
  {
   "cell_type": "code",
   "execution_count": 5,
   "id": "a88c3142-b152-481b-b2d3-f55d8ca67dfe",
   "metadata": {},
   "outputs": [],
   "source": [
    "# * Read in `menu_data.csv` and set its contents to a separate list object.\n",
    "menu_filepath = Path(\"./Resources/menu_data.csv\")"
   ]
  },
  {
   "cell_type": "code",
   "execution_count": 6,
   "id": "e06ffebf-eb16-4504-a3a7-8ab106088160",
   "metadata": {},
   "outputs": [],
   "source": [
    "#   * Initialize an empty `menu` list object to hold the contents of `menu_data.csv`.\n",
    "menu = []\n",
    "sales = []\n",
    "# * Initialize an empty `report` dictionary to hold the future aggregated per-product results. The `report` dictionary will eventually contain the following metrics:\n",
    "\n",
    "#   * `01-count`: the total quantity for each ramen type\n",
    "\n",
    "#   * `02-revenue`: the total revenue for each ramen type\n",
    "\n",
    "#   * `03-cogs`: the total cost of goods sold for each ramen type\n",
    "\n",
    "#   * `04-profit`: the total profit for each ramen type\n",
    "\n",
    "report = {}\n",
    "row_count = 0\n",
    "quantity = 0\n",
    "menu_item = 0\n",
    "cost = 0\n",
    "profit = 0\n",
    "Line_Item_ =\n",
    "ID =\n",
    "Date =\n",
    "Credit_Card_Number =\n"
   ]
  },
  {
   "cell_type": "code",
   "execution_count": 7,
   "id": "af664861-6a77-4b30-8c3a-d5ae44b1ba95",
   "metadata": {},
   "outputs": [],
   "source": [
    "#   * Use a `with` statement and open the `menu_data.csv` by using its file path.\n",
    "#   * Use the `reader` function from the `csv` library to begin reading `menu_data.csv`.\n",
    "#   * Use the `next` function to skip the header (first row of the CSV).\n",
    "#   * Loop over the rest of the rows and append every row to the `menu` list object (the outcome will be a list of lists).\n",
    "with open(menu_filepath,newline='') as file:\n",
    "    menu_csvreader = csv.reader(file,delimiter=',')\n",
    "    next(menu_csvreader)\n",
    "    \n",
    "    for row in menu_csvreader:\n",
    "        menu.append(row)\n",
    "        "
   ]
  },
  {
   "cell_type": "code",
   "execution_count": 8,
   "id": "1dae7c00-5ed6-477c-9285-3ac2ba15c838",
   "metadata": {},
   "outputs": [],
   "source": [
    "sales_filepath = Path(\"../../Instructions/PyRamen/Resources/sales_data.csv\")"
   ]
  },
  {
   "cell_type": "code",
   "execution_count": 9,
   "id": "541d826d-e5de-4be4-bbd5-9f3f6c3a1a7c",
   "metadata": {},
   "outputs": [],
   "source": [
    "# * Set up the same process to read in `sales_data.csv`. However, instead append every row of the sales data to a new `sales` list object.\n",
    "with open(sales_filepath,newline='') as file:\n",
    "    sales_csvreader = csv.reader(file,delimiter=',')\n",
    "    next(sales_csvreader)\n",
    "    \n",
    "    for row in sales_csvreader:\n",
    "        sales.append(row)\n",
    "        "
   ]
  },
  {
   "cell_type": "code",
   "execution_count": 22,
   "id": "b1d6657d-a839-4c28-9d12-d5904235b2f7",
   "metadata": {},
   "outputs": [
    {
     "data": {
      "text/plain": [
       "'spicy miso ramen'"
      ]
     },
     "execution_count": 22,
     "metadata": {},
     "output_type": "execute_result"
    }
   ],
   "source": [
    "# Then, loop through every row in the `sales` list object.\n",
    "# For each row of the `sales` data, set the following columns of the sales data to their own variables:\n",
    "# Quantity # Menu_Item\n",
    "for row in sales:\n",
    "    quantity = int(row[3])\n",
    "    menu_item = str(row[4])\n",
    "    # set the `sales_item` as a new key to the `report` dictionary\n",
    " "
   ]
  },
  {
   "cell_type": "code",
   "execution_count": 12,
   "id": "a81a7aa3-6fe4-4c45-b1b2-7d57b6d82d83",
   "metadata": {},
   "outputs": [],
   "source": [
    "# set the `sales_item` as a new key to the `report` dictionary\n",
    "\n",
    "\n",
    "\n",
    "\n",
    "\n",
    "#   * Perform a quick check if the `sales_item` is already included in the `report`. If not, initialize the key-value pairs for the particular `sales_item` in the report. Then, set the `sales_item` as a new key to the `report` dictionary and the values as a nested dictionary containing the following:\n",
    "\n",
    "#     ```python\n",
    "#     {\n",
    "#     \"1-count\": 0,\n",
    "#     \"2-revenue\": 0,\n",
    "#     \"3-cogs\": 0,\n",
    "#     \"4-profit\": 0,\n",
    "#     }\n",
    "\n",
    "\n"
   ]
  },
  {
   "cell_type": "code",
   "execution_count": null,
   "id": "097ec13d-3a54-4ba4-9fc3-35040c52eb37",
   "metadata": {},
   "outputs": [],
   "source": []
  }
 ],
 "metadata": {
  "kernelspec": {
   "display_name": "Python 3 (ipykernel)",
   "language": "python",
   "name": "python3"
  },
  "language_info": {
   "codemirror_mode": {
    "name": "ipython",
    "version": 3
   },
   "file_extension": ".py",
   "mimetype": "text/x-python",
   "name": "python",
   "nbconvert_exporter": "python",
   "pygments_lexer": "ipython3",
   "version": "3.7.11"
  }
 },
 "nbformat": 4,
 "nbformat_minor": 5
}
