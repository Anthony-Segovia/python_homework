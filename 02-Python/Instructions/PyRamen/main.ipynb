{
 "cells": [
  {
   "cell_type": "code",
   "execution_count": 16,
   "id": "ffda44ee-58d8-463f-b563-74539318beb8",
   "metadata": {},
   "outputs": [],
   "source": [
    "\n",
    "#In this activity, you are tasked with creating a Python script for analyzing the financial records of your company. You will be provided with a financial dataset in this file: [budget_data.csv](PyBank/Resources/budget_data.csv). This dataset is composed of two columns, Date and Profit/Losses. (Thankfully, your company has rather lax standards for accounting, so the records are simple.)\n",
    "\n",
    "#Your task is to create a Python script that analyzes the records to calculate each of the following:\n",
    "\n",
    "#* The total number of months included in the dataset.\n",
    "\n",
    "#* The net total amount of Profit/Losses over the entire period.\n",
    "\n",
    "#* The average of the changes in Profit/Losses over the entire period.\n",
    "\n",
    "#* The greatest increase in profits (date and amount) over the entire period.\n",
    "\n",
    "#* The greatest decrease in losses (date and amount) over the entire period.\n",
    " # ```text\n",
    "  #Financial Analysis\n",
    "  #----------------------------\n",
    "  #Total Months: 86\n",
    "  #Total: $38382578\n",
    "  #Average  Change: $-2315.12\n",
    "  #Greatest Increase in Profits: Feb-2012 ($1926159)\n",
    "  #Greatest Decrease in Profits: Sep-2013 ($-2196167)"
   ]
  },
  {
   "cell_type": "code",
   "execution_count": 17,
   "id": "c1ddb87a-3e80-4560-8d99-274abc2c439c",
   "metadata": {},
   "outputs": [],
   "source": [
    "from pathlib import Path\n",
    "import csv"
   ]
  },
  {
   "cell_type": "code",
   "execution_count": 18,
   "id": "ead0bb3e-9696-4a03-afec-4b72247b725a",
   "metadata": {},
   "outputs": [],
   "source": [
    "filepath = Path(\"../Instructions/PyBank/Resources/budget_data.csv\")"
   ]
  },
  {
   "cell_type": "code",
   "execution_count": 19,
   "id": "8a0e9e03-e147-4d17-b54e-6de1c176fa2e",
   "metadata": {},
   "outputs": [],
   "source": [
    "total_months = 0\n",
    "total_net = 0\n",
    "profit_loss =[]\n",
    "date = []\n",
    "average_change = []\n",
    "greatest_increase = ['',0]\n",
    "greatest_decrease = ['',999999999999999]\n"
   ]
  },
  {
   "cell_type": "code",
   "execution_count": 20,
   "id": "ae9aae40-0e18-4479-be01-abc8a9c37914",
   "metadata": {},
   "outputs": [],
   "source": [
    "with open(filepath,newline='') as file:\n",
    "    csvreader = csv.reader(file,delimiter=',')\n",
    "    header = next(csvreader)\n",
    "    first_row = next(csvreader)\n",
    "    total_months = total_months + 1\n",
    "    total_net = total_net + int(first_row[1])\n",
    "    prev_net = int(first_row[1])\n",
    "    \n",
    "    \n",
    "    for row in csvreader:\n",
    "        total_months = total_months + 1\n",
    "        total_net = total_net + int(row[1])\n",
    "  \n",
    "        net_change = int(row[1]) - prev_net\n",
    "        prev_net = int(row[1])\n",
    "      \n",
    "        profit_loss.append(net_change)\n",
    "        date.append(row[0])\n",
    "      \n",
    "        if net_change > greatest_increase[1]:\n",
    "            greatest_increase[0] = row[0]\n",
    "            greatest_increase[1] = net_change\n",
    "\n",
    "        if net_change < greatest_decrease[1]:\n",
    "            greatest_decrease[0] = row[0]\n",
    "            greatest_decrease[1] = net_change\n"
   ]
  },
  {
   "cell_type": "code",
   "execution_count": 21,
   "id": "aac569fe-14a9-405c-984d-f28934408806",
   "metadata": {},
   "outputs": [],
   "source": [
    "# Calculate the Average Net Change\n",
    "net_monthly_avg = round(sum(profit_loss) / len(profit_loss),2)"
   ]
  },
  {
   "cell_type": "code",
   "execution_count": 23,
   "id": "998d4147-9875-454e-8662-450751d4f5b6",
   "metadata": {},
   "outputs": [],
   "source": [
    "# Export the results to text file\n",
    "with open(\"../output.txt\", \"w\") as txt_file:\n",
    "    txt_file.write(f\"Financial Analysis\\n\")\n",
    "    txt_file.write(f\"----------------------------\\n\")\n",
    "    txt_file.write(f\"Total Months: {total_months}\\n\")\n",
    "    txt_file.write(f\"Total: ${total_net}\\n\")\n",
    "    txt_file.write(f\"Average  Change: ${net_monthly_avg}\\n\")\n",
    "    txt_file.write(f\"Greatest Increase in Profits: {greatest_increase[0]} (${greatest_increase[1]})\\n\")\n",
    "    txt_file.write(f\"Greatest Decrease in Profits: {greatest_decrease[0]} (${greatest_decrease[1]})\\n\")"
   ]
  },
  {
   "cell_type": "code",
   "execution_count": 14,
   "id": "8050cdd6-9220-4a33-872e-956b91a6f650",
   "metadata": {},
   "outputs": [
    {
     "data": {
      "text/plain": [
       "'/Users/anthonysegovia/Desktop/Miami_Bootcamp_Personal/csv_PyBank/Instructions'"
      ]
     },
     "execution_count": 14,
     "metadata": {},
     "output_type": "execute_result"
    }
   ],
   "source": []
  },
  {
   "cell_type": "code",
   "execution_count": null,
   "id": "958e5bd9-b27c-40e0-9635-f7703b2373d3",
   "metadata": {},
   "outputs": [],
   "source": []
  }
 ],
 "metadata": {
  "kernelspec": {
   "display_name": "Python 3 (ipykernel)",
   "language": "python",
   "name": "python3"
  },
  "language_info": {
   "codemirror_mode": {
    "name": "ipython",
    "version": 3
   },
   "file_extension": ".py",
   "mimetype": "text/x-python",
   "name": "python",
   "nbconvert_exporter": "python",
   "pygments_lexer": "ipython3",
   "version": "3.7.11"
  }
 },
 "nbformat": 4,
 "nbformat_minor": 5
}
